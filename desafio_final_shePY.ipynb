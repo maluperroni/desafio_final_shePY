{
  "nbformat": 4,
  "nbformat_minor": 0,
  "metadata": {
    "colab": {
      "name": "desafio_final_shePY.ipynb",
      "provenance": [],
      "collapsed_sections": [],
      "authorship_tag": "ABX9TyPMOFN7/sBZyHtIiCvWxA98",
      "include_colab_link": true
    },
    "kernelspec": {
      "name": "python3",
      "display_name": "Python 3"
    },
    "language_info": {
      "name": "python"
    }
  },
  "cells": [
    {
      "cell_type": "markdown",
      "metadata": {
        "id": "view-in-github",
        "colab_type": "text"
      },
      "source": [
        "<a href=\"https://colab.research.google.com/github/maluperroni/desafio_final_shePY/blob/main/desafio_final_shePY.ipynb\" target=\"_parent\"><img src=\"https://colab.research.google.com/assets/colab-badge.svg\" alt=\"Open In Colab\"/></a>"
      ]
    },
    {
      "cell_type": "markdown",
      "metadata": {
        "id": "nS_QANu0oEOL"
      },
      "source": [
        "### As maiores Fake News em 2017\n",
        "\n",
        "Não sabemos exatamente quando as fake news começaram a surgir, ao que tudo indica esse \"telefone sem fio\" de notícias falaciosas existe desde quando o mundo é mundo. Afinal, quem não se lembra da famosa história que correu nas escolas públicas nos anos 2000 sobre o pacto da Xuxa com o diabo? \n",
        "\n",
        "![](https://i.makeagif.com/media/2-21-2018/p-X4WS.gif)\n",
        "\n",
        "\n",
        "Mas foi a partir das redes que elas ganharam uma proporção gigantesca, manipulando a opinião pública, decidindo eleições e criando realidades ilusórias.\n",
        "\n",
        "O documentáio *Nada é Privado: O Escândalo da Cambridge Analytica* analisa o papel das fake news nas eleições Norte Americanas em 2016, apontando essa tática como a principal utitlizada por Trump na decisão de sua vitória. Desde então, o tema das fake news tem ganhado relevância e aberto diversas discussões na sociedade civil. \n",
        "\n",
        "Em dezembro de 2017 o BuzzFeed News publicou o artigo **\"Estes são os 50 maiores sucessos de notícias falsas no Facebook em 2017\"**, apresentando quais foram os posts mais virais do ano nos EUA. \n",
        "\n",
        "A nossa ideia é apresentar esses dados e tentar entender o que estava sendo divulgado como notícia falsa no primeiro ano de mandato do Trump. \n",
        "\n",
        "\n",
        "![](https://miro.medium.com/max/1200/1*RVecOp7yWgTUWbAa5G4f5g.gif)\n",
        "\n",
        "---\n",
        "\n"
      ]
    },
    {
      "cell_type": "code",
      "metadata": {
        "id": "1sB8ItTXILLK"
      },
      "source": [
        "#Importando as bibliotecas que vão nos ajudar a visualizar os dados \n",
        "import pandas as pd \n",
        "import seaborn as sns\n",
        "import matplotlib.pyplot as plt \n",
        "%matplotlib inline "
      ],
      "execution_count": 63,
      "outputs": []
    },
    {
      "cell_type": "code",
      "metadata": {
        "colab": {
          "base_uri": "https://localhost:8080/",
          "height": 340
        },
        "id": "Ugk2AJtCDQKR",
        "outputId": "b4291a85-ba99-4d03-8d0b-c66ced894766"
      },
      "source": [
        "#Lendo o dataframe com a biblioteca pd\n",
        "df_fn = pd.read_csv('https://raw.githubusercontent.com/BuzzFeedNews/2017-12-fake-news-top-50/master/data/top_2017.csv')\n",
        "df_fn.head()"
      ],
      "execution_count": 64,
      "outputs": [
        {
          "output_type": "execute_result",
          "data": {
            "text/html": [
              "<div>\n",
              "<style scoped>\n",
              "    .dataframe tbody tr th:only-of-type {\n",
              "        vertical-align: middle;\n",
              "    }\n",
              "\n",
              "    .dataframe tbody tr th {\n",
              "        vertical-align: top;\n",
              "    }\n",
              "\n",
              "    .dataframe thead th {\n",
              "        text-align: right;\n",
              "    }\n",
              "</style>\n",
              "<table border=\"1\" class=\"dataframe\">\n",
              "  <thead>\n",
              "    <tr style=\"text-align: right;\">\n",
              "      <th></th>\n",
              "      <th>title</th>\n",
              "      <th>url</th>\n",
              "      <th>domain</th>\n",
              "      <th>fb_engagements</th>\n",
              "      <th>published_date</th>\n",
              "      <th>category</th>\n",
              "    </tr>\n",
              "  </thead>\n",
              "  <tbody>\n",
              "    <tr>\n",
              "      <th>0</th>\n",
              "      <td>Babysitter transported to hospital after inserting a baby in her vagina</td>\n",
              "      <td>http://worldnewsdailyreport.com/babysitter-transported-to-hospital-after-inserting-a-baby-in-her-vagina/</td>\n",
              "      <td>worldnewsdailyreport.com</td>\n",
              "      <td>1204400</td>\n",
              "      <td>2017-05-03</td>\n",
              "      <td>Medical</td>\n",
              "    </tr>\n",
              "    <tr>\n",
              "      <th>1</th>\n",
              "      <td>FBI seizes over 3,000 penises during raid at morgue employee’s home</td>\n",
              "      <td>http://worldnewsdailyreport.com/fbi-seizes-over-3000-penises-during-raid-at-morgue-employees-home/</td>\n",
              "      <td>worldnewsdailyreport.com</td>\n",
              "      <td>1145470</td>\n",
              "      <td>2017-09-25</td>\n",
              "      <td>Crime</td>\n",
              "    </tr>\n",
              "    <tr>\n",
              "      <th>2</th>\n",
              "      <td>Charles Manson to be released on parole, to Johnson County, TX</td>\n",
              "      <td>http://www.breakingnews365.net/59690fb994b9c/charles-manson-to-be-released-on-parole-to-johnson-county-tx.html</td>\n",
              "      <td>breakingnews365.net</td>\n",
              "      <td>1125031</td>\n",
              "      <td>2017-07-14</td>\n",
              "      <td>Crime</td>\n",
              "    </tr>\n",
              "    <tr>\n",
              "      <th>3</th>\n",
              "      <td>Police: Chester Bennington Was Murdered</td>\n",
              "      <td>http://yournewswire.com/chester-bennington-murdered/</td>\n",
              "      <td>yournewswire.com</td>\n",
              "      <td>1042032</td>\n",
              "      <td>2017-07-21</td>\n",
              "      <td>Crime</td>\n",
              "    </tr>\n",
              "    <tr>\n",
              "      <th>4</th>\n",
              "      <td>Morgue employee cremated by mistake while taking a nap</td>\n",
              "      <td>https://worldnewsdailyreport.com/morgue-employee-cremated-by-mistake-while-taking-a-nap/</td>\n",
              "      <td>worldnewsdailyreport.com</td>\n",
              "      <td>993205</td>\n",
              "      <td>2017-03-01</td>\n",
              "      <td>Crime</td>\n",
              "    </tr>\n",
              "  </tbody>\n",
              "</table>\n",
              "</div>"
            ],
            "text/plain": [
              "                                                                     title  ... category\n",
              "0  Babysitter transported to hospital after inserting a baby in her vagina  ...  Medical\n",
              "1      FBI seizes over 3,000 penises during raid at morgue employee’s home  ...    Crime\n",
              "2           Charles Manson to be released on parole, to Johnson County, TX  ...    Crime\n",
              "3                                  Police: Chester Bennington Was Murdered  ...    Crime\n",
              "4                   Morgue employee cremated by mistake while taking a nap  ...    Crime\n",
              "\n",
              "[5 rows x 6 columns]"
            ]
          },
          "metadata": {
            "tags": []
          },
          "execution_count": 64
        }
      ]
    },
    {
      "cell_type": "markdown",
      "metadata": {
        "id": "jMu2VaHhKqMa"
      },
      "source": [
        "##Análise exploratória"
      ]
    },
    {
      "cell_type": "code",
      "metadata": {
        "colab": {
          "base_uri": "https://localhost:8080/"
        },
        "id": "EnPnHKk2qkll",
        "outputId": "d689bf07-bd0b-4ea2-f2b9-52e650a85dab"
      },
      "source": [
        "df_fn.shape"
      ],
      "execution_count": 3,
      "outputs": [
        {
          "output_type": "execute_result",
          "data": {
            "text/plain": [
              "(50, 6)"
            ]
          },
          "metadata": {
            "tags": []
          },
          "execution_count": 3
        }
      ]
    },
    {
      "cell_type": "markdown",
      "metadata": {
        "id": "o2PwEskhqoqk"
      },
      "source": [
        "Nosso DataFrame é composto por 50 linhas, cada uma correspondendo a uma fake news. Além disso, há 6 colunas com informações sobre o título, a url e o domínio onde a fake news foi publicada originalmente, o número de engajamentos recebecidos no facebook(sendo este, inclusive, o critério que ordena as notícias no DataFrame) a data de publicação e a categoria a qual a notícia pertence.\n",
        "\n",
        "\n",
        "\n"
      ]
    },
    {
      "cell_type": "code",
      "metadata": {
        "colab": {
          "base_uri": "https://localhost:8080/",
          "height": 297
        },
        "id": "bH11azPVU7w2",
        "outputId": "e4242011-c27e-4a0d-9d15-bd4c2dba3475"
      },
      "source": [
        "df_fn.describe()"
      ],
      "execution_count": 4,
      "outputs": [
        {
          "output_type": "execute_result",
          "data": {
            "text/html": [
              "<div>\n",
              "<style scoped>\n",
              "    .dataframe tbody tr th:only-of-type {\n",
              "        vertical-align: middle;\n",
              "    }\n",
              "\n",
              "    .dataframe tbody tr th {\n",
              "        vertical-align: top;\n",
              "    }\n",
              "\n",
              "    .dataframe thead th {\n",
              "        text-align: right;\n",
              "    }\n",
              "</style>\n",
              "<table border=\"1\" class=\"dataframe\">\n",
              "  <thead>\n",
              "    <tr style=\"text-align: right;\">\n",
              "      <th></th>\n",
              "      <th>fb_engagements</th>\n",
              "    </tr>\n",
              "  </thead>\n",
              "  <tbody>\n",
              "    <tr>\n",
              "      <th>count</th>\n",
              "      <td>5.000000e+01</td>\n",
              "    </tr>\n",
              "    <tr>\n",
              "      <th>mean</th>\n",
              "      <td>4.699730e+05</td>\n",
              "    </tr>\n",
              "    <tr>\n",
              "      <th>std</th>\n",
              "      <td>2.832482e+05</td>\n",
              "    </tr>\n",
              "    <tr>\n",
              "      <th>min</th>\n",
              "      <td>2.313610e+05</td>\n",
              "    </tr>\n",
              "    <tr>\n",
              "      <th>25%</th>\n",
              "      <td>2.679388e+05</td>\n",
              "    </tr>\n",
              "    <tr>\n",
              "      <th>50%</th>\n",
              "      <td>3.337690e+05</td>\n",
              "    </tr>\n",
              "    <tr>\n",
              "      <th>75%</th>\n",
              "      <td>5.821185e+05</td>\n",
              "    </tr>\n",
              "    <tr>\n",
              "      <th>max</th>\n",
              "      <td>1.204400e+06</td>\n",
              "    </tr>\n",
              "  </tbody>\n",
              "</table>\n",
              "</div>"
            ],
            "text/plain": [
              "       fb_engagements\n",
              "count    5.000000e+01\n",
              "mean     4.699730e+05\n",
              "std      2.832482e+05\n",
              "min      2.313610e+05\n",
              "25%      2.679388e+05\n",
              "50%      3.337690e+05\n",
              "75%      5.821185e+05\n",
              "max      1.204400e+06"
            ]
          },
          "metadata": {
            "tags": []
          },
          "execution_count": 4
        }
      ]
    },
    {
      "cell_type": "markdown",
      "metadata": {
        "id": "ucpDnAtnVFbr"
      },
      "source": [
        "O describe nos ajuda a ter uma noção do quanto essas notícias falsas foram veículadas. A top 1 das notícias que mais foram divulgadas, recebeu cerca de **1.204.400** engajamentos. \n",
        "\n",
        "![](https://miro.medium.com/max/500/1*gZtUL3pzZaiSDWMPnv3H2g.gif)\n",
        "\n",
        " Se você é tão ruim em matemática quanto eu isso significa que a notícia *Babysitter transported to hospital after inserting a baby in her vagina (\n",
        "Babá transportada para o hospital após inserir um bebê na vagina)* foi compartilhada, curtida e comentada cerca de 1 milhão 204 mil e 400 vezes!!!\n",
        "\n",
        "![](https://s2.glbimg.com/fFkYr1DBZDrs2XMnqWMnhoOr5w4=/512x320/smart/e.glbimg.com/og/ed/f/original/2019/12/02/joe-friends-assustado.gif)\n",
        "\n",
        "Ninguém imaginaria que essa manchete seria uma fake news, né?!\n",
        "\n",
        "A média dos engajamentos ficou entre **469 mil** e o engajamento mais baixo foi de **231 mil** (não tão baixo assim, né?!)\n",
        "\n"
      ]
    },
    {
      "cell_type": "markdown",
      "metadata": {
        "id": "xqpy8JgyXaRV"
      },
      "source": [
        "Analisando o gênero das notícias"
      ]
    },
    {
      "cell_type": "code",
      "metadata": {
        "colab": {
          "base_uri": "https://localhost:8080/"
        },
        "id": "eEwK8lWrXe8W",
        "outputId": "f701a667-95bb-4311-d7a3-db26131e7685"
      },
      "source": [
        "df_fn['category'].unique()"
      ],
      "execution_count": 5,
      "outputs": [
        {
          "output_type": "execute_result",
          "data": {
            "text/plain": [
              "array(['Medical', 'Crime', 'Politics', 'Breaking News', 'Business',\n",
              "       'Race', 'Local News', 'World', 'Music', 'Religion', 'Sports'],\n",
              "      dtype=object)"
            ]
          },
          "metadata": {
            "tags": []
          },
          "execution_count": 5
        }
      ]
    },
    {
      "cell_type": "markdown",
      "metadata": {
        "id": "WOXV9WYBcuye"
      },
      "source": [
        "Mas se enganou quem pensou que só tiveram fake news relacionadas a política. Teve de tuuuudo nesse mar de mentiras, desde fake news sobre medicina, crime, negócios, música, esporte e até religião. "
      ]
    },
    {
      "cell_type": "code",
      "metadata": {
        "colab": {
          "base_uri": "https://localhost:8080/"
        },
        "id": "1erykbskXyAr",
        "outputId": "24199eb7-b24f-4639-f78a-efe76cbe4bb3"
      },
      "source": [
        "df_fn['category'].value_counts()"
      ],
      "execution_count": 6,
      "outputs": [
        {
          "output_type": "execute_result",
          "data": {
            "text/plain": [
              "Crime            20\n",
              "Politics         11\n",
              "Medical           4\n",
              "World             4\n",
              "Business          3\n",
              "Breaking News     2\n",
              "Race              2\n",
              "Sports            1\n",
              "Local News        1\n",
              "Religion          1\n",
              "Music             1\n",
              "Name: category, dtype: int64"
            ]
          },
          "metadata": {
            "tags": []
          },
          "execution_count": 6
        }
      ]
    },
    {
      "cell_type": "code",
      "metadata": {
        "colab": {
          "base_uri": "https://localhost:8080/",
          "height": 458
        },
        "id": "8R2LAR7c8m7Z",
        "outputId": "9f8b248f-1be6-4619-ecf5-ea980452ea90"
      },
      "source": [
        "plt.figure(figsize=(15,7))\n",
        "sns.countplot(x='category',data=df_fn, order=df_fn['category'].value_counts().index).set_title('Categoria das Fake News');"
      ],
      "execution_count": 14,
      "outputs": [
        {
          "output_type": "display_data",
          "data": {
            "image/png": "[encoded data removed]",
            "text/plain": [
              "<Figure size 1080x504 with 1 Axes>"
            ]
          },
          "metadata": {
            "tags": [],
            "needs_background": "light"
          }
        }
      ]
    },
    {
      "cell_type": "markdown",
      "metadata": {
        "id": "lStgQrlbt53Q"
      },
      "source": [
        "Mas, apesar da variedade, as fake news sobre política continuaram entre as mais divulgadas. Afinal de contas, o fatídico ano de 2017, em que Trump assumiu a presidência dos EUA, foi um ano bastante agitado politicamente no país. \n",
        "\n",
        "![](https://i.giphy.com/3o7abkti7UphSopcl2.gif)"
      ]
    },
    {
      "cell_type": "markdown",
      "metadata": {
        "id": "chIFYX1xLOz_"
      },
      "source": [
        "###**Vamos ao que interessa: Mas sobre o quê exatamente as fake news de política tratavam?**"
      ]
    },
    {
      "cell_type": "code",
      "metadata": {
        "colab": {
          "base_uri": "https://localhost:8080/"
        },
        "id": "Bu2WXajaVIDn",
        "outputId": "cfdce501-0e8b-4a79-b20e-3395d051e64d"
      },
      "source": [
        "pd.get_option('max_colwidth')"
      ],
      "execution_count": 9,
      "outputs": [
        {
          "output_type": "execute_result",
          "data": {
            "text/plain": [
              "50"
            ]
          },
          "metadata": {
            "tags": []
          },
          "execution_count": 9
        }
      ]
    },
    {
      "cell_type": "code",
      "metadata": {
        "id": "GNcx0OJAJUxx"
      },
      "source": [
        "pd.set_option('max_colwidth', None) #Vamos utilizar o set_option para expandir os caracters. None permite que não haja essa limitação."
      ],
      "execution_count": 10,
      "outputs": []
    },
    {
      "cell_type": "code",
      "metadata": {
        "colab": {
          "base_uri": "https://localhost:8080/"
        },
        "id": "WwrNQLuiRGyP",
        "outputId": "54ebf94f-5ffc-4c7b-cfed-257ff8fd8bf2"
      },
      "source": [
        "df_fn.columns"
      ],
      "execution_count": 11,
      "outputs": [
        {
          "output_type": "execute_result",
          "data": {
            "text/plain": [
              "Index(['title', 'url', 'domain', 'fb_engagements', 'published_date',\n",
              "       'category'],\n",
              "      dtype='object')"
            ]
          },
          "metadata": {
            "tags": []
          },
          "execution_count": 11
        }
      ]
    },
    {
      "cell_type": "code",
      "metadata": {
        "id": "wO5qrynTJb3Q",
        "colab": {
          "base_uri": "https://localhost:8080/",
          "height": 645
        },
        "outputId": "9285a30b-bceb-4169-fba9-3f8bb631bee2"
      },
      "source": [
        "df_politics= df_fn.query('category==\"Politics\"')\n",
        "df_politics"
      ],
      "execution_count": 12,
      "outputs": [
        {
          "output_type": "execute_result",
          "data": {
            "text/html": [
              "<div>\n",
              "<style scoped>\n",
              "    .dataframe tbody tr th:only-of-type {\n",
              "        vertical-align: middle;\n",
              "    }\n",
              "\n",
              "    .dataframe tbody tr th {\n",
              "        vertical-align: top;\n",
              "    }\n",
              "\n",
              "    .dataframe thead th {\n",
              "        text-align: right;\n",
              "    }\n",
              "</style>\n",
              "<table border=\"1\" class=\"dataframe\">\n",
              "  <thead>\n",
              "    <tr style=\"text-align: right;\">\n",
              "      <th></th>\n",
              "      <th>title</th>\n",
              "      <th>url</th>\n",
              "      <th>domain</th>\n",
              "      <th>fb_engagements</th>\n",
              "      <th>published_date</th>\n",
              "      <th>category</th>\n",
              "    </tr>\n",
              "  </thead>\n",
              "  <tbody>\n",
              "    <tr>\n",
              "      <th>6</th>\n",
              "      <td>Female Legislators Unveil 'Male Ejaculation Bill' Forbidding The Disposal Of Unused Semen</td>\n",
              "      <td>http://www.burrardstreetjournal.com/female-legislators-unveil-male-ejaculation-bill/</td>\n",
              "      <td>burrardstreetjournal.com</td>\n",
              "      <td>966498</td>\n",
              "      <td>2017-01-23</td>\n",
              "      <td>Politics</td>\n",
              "    </tr>\n",
              "    <tr>\n",
              "      <th>7</th>\n",
              "      <td>President Trump Orders the Execution of Five Turkeys Pardoned by Obama</td>\n",
              "      <td>http://realnewsrightnow.com/2017/01/president-trump-orders-execution-five-turkeys-pardoned-obama/</td>\n",
              "      <td>realnewsrightnow.com</td>\n",
              "      <td>914429</td>\n",
              "      <td>2017-01-24</td>\n",
              "      <td>Politics</td>\n",
              "    </tr>\n",
              "    <tr>\n",
              "      <th>13</th>\n",
              "      <td>LAW PASSED: All Child Support in the United States Will End by Beginning of 2018</td>\n",
              "      <td>http://tmzbreaking.com/law-passed-all-child-support-in-the-united-states-will-end-by-beginning-of-2018</td>\n",
              "      <td>tmzbreaking.com</td>\n",
              "      <td>558201</td>\n",
              "      <td>2017-09-24</td>\n",
              "      <td>Politics</td>\n",
              "    </tr>\n",
              "    <tr>\n",
              "      <th>14</th>\n",
              "      <td>Popeyes manager arrested for allegedly dipping chicken in cocaine based flour to increase business sales. - Channel22News.com</td>\n",
              "      <td>http://channel22news.com/popeyes-manager-arrested-for-allegedly-dipping-chicken-in-cocaine-based-flour-to-increase-business-sales/</td>\n",
              "      <td>channel22news.com</td>\n",
              "      <td>545320</td>\n",
              "      <td>2017-09-20</td>\n",
              "      <td>Politics</td>\n",
              "    </tr>\n",
              "    <tr>\n",
              "      <th>16</th>\n",
              "      <td>CIA Agent Confesses On Deathbed: 'We Blew Up WTC 7 On 9/11'</td>\n",
              "      <td>http://yournewswire.com/cia-911-wtc7/</td>\n",
              "      <td>yournewswire.com</td>\n",
              "      <td>423549</td>\n",
              "      <td>2017-07-14</td>\n",
              "      <td>Politics</td>\n",
              "    </tr>\n",
              "    <tr>\n",
              "      <th>17</th>\n",
              "      <td>Celebrities Call For 'Total Hollywood Strike' Until Trump Resigns</td>\n",
              "      <td>http://yournewswire.com/hollywood-strike-trump-resign/</td>\n",
              "      <td>yournewswire.com</td>\n",
              "      <td>416123</td>\n",
              "      <td>2017-11-07</td>\n",
              "      <td>Politics</td>\n",
              "    </tr>\n",
              "    <tr>\n",
              "      <th>18</th>\n",
              "      <td>NPR: 25 Million Votes For Clinton 'Completely Fake'</td>\n",
              "      <td>http://yournewswire.com/npr-25-million-fake-clinton-votes/</td>\n",
              "      <td>yournewswire.com</td>\n",
              "      <td>394781</td>\n",
              "      <td>2017-07-13</td>\n",
              "      <td>Politics</td>\n",
              "    </tr>\n",
              "    <tr>\n",
              "      <th>19</th>\n",
              "      <td>World's most popular candy to be removed from shelves by October 2017!</td>\n",
              "      <td>http://www.breakingnews247.net/59bc13819a723/world-s-most-popular-candy-to-be-removed-from-shelves-by-october-2017.html</td>\n",
              "      <td>breakingnews247.net</td>\n",
              "      <td>390453</td>\n",
              "      <td>2017-01-09</td>\n",
              "      <td>Politics</td>\n",
              "    </tr>\n",
              "    <tr>\n",
              "      <th>20</th>\n",
              "      <td>Se extiende la edad para jubilarse</td>\n",
              "      <td>http://www.12minutos.com/58f7d2c435970/se-extiende-la-edad-para-jubilarse.html</td>\n",
              "      <td>12minutos.com</td>\n",
              "      <td>389957</td>\n",
              "      <td>2017-01-29</td>\n",
              "      <td>Politics</td>\n",
              "    </tr>\n",
              "    <tr>\n",
              "      <th>26</th>\n",
              "      <td>WikiLeaks: Clinton Bribed 6 Republicans To 'Destroy Trump'</td>\n",
              "      <td>http://yournewswire.com/wikileaks-clinton-bribed-6-republicans/</td>\n",
              "      <td>yournewswire.com</td>\n",
              "      <td>332300</td>\n",
              "      <td>2017-12-05</td>\n",
              "      <td>Politics</td>\n",
              "    </tr>\n",
              "    <tr>\n",
              "      <th>28</th>\n",
              "      <td>No more child support after 2017!!!!!!</td>\n",
              "      <td>http://www.react365.com/59c06b7b050bf/no-more-child-support-after-2017.html</td>\n",
              "      <td>react365.com</td>\n",
              "      <td>327281</td>\n",
              "      <td>2017-01-15</td>\n",
              "      <td>Politics</td>\n",
              "    </tr>\n",
              "  </tbody>\n",
              "</table>\n",
              "</div>"
            ],
            "text/plain": [
              "                                                                                                                            title  ...  category\n",
              "6                                       Female Legislators Unveil 'Male Ejaculation Bill' Forbidding The Disposal Of Unused Semen  ...  Politics\n",
              "7                                                          President Trump Orders the Execution of Five Turkeys Pardoned by Obama  ...  Politics\n",
              "13                                               LAW PASSED: All Child Support in the United States Will End by Beginning of 2018  ...  Politics\n",
              "14  Popeyes manager arrested for allegedly dipping chicken in cocaine based flour to increase business sales. - Channel22News.com  ...  Politics\n",
              "16                                                                    CIA Agent Confesses On Deathbed: 'We Blew Up WTC 7 On 9/11'  ...  Politics\n",
              "17                                                              Celebrities Call For 'Total Hollywood Strike' Until Trump Resigns  ...  Politics\n",
              "18                                                                            NPR: 25 Million Votes For Clinton 'Completely Fake'  ...  Politics\n",
              "19                                                         World's most popular candy to be removed from shelves by October 2017!  ...  Politics\n",
              "20                                                                                             Se extiende la edad para jubilarse  ...  Politics\n",
              "26                                                                     WikiLeaks: Clinton Bribed 6 Republicans To 'Destroy Trump'  ...  Politics\n",
              "28                                                                                         No more child support after 2017!!!!!!  ...  Politics\n",
              "\n",
              "[11 rows x 6 columns]"
            ]
          },
          "metadata": {
            "tags": []
          },
          "execution_count": 12
        }
      ]
    },
    {
      "cell_type": "code",
      "metadata": {
        "id": "Ndo1BNJgBvSj"
      },
      "source": [
        "engagements_trump = [327281, 332300, 389957, 394781, 416123, 558201, 914429]\n",
        "engagements_outros = [390453, 423549, 545320, 966498]\n",
        "\n",
        "soma_trump = sum(engagements_trump)\n",
        "soma_outros = sum(engagements_outros)\n",
        "soma_total = [soma_trump, soma_outros]"
      ],
      "execution_count": 37,
      "outputs": []
    },
    {
      "cell_type": "code",
      "metadata": {
        "id": "wyT-CKLN8NMK"
      },
      "source": [
        "news_politics = ['Eleições e governo Trump', 'Outros']\n",
        "engagements_politics = [soma_trump, soma_outros]"
      ],
      "execution_count": 62,
      "outputs": []
    },
    {
      "cell_type": "code",
      "metadata": {
        "colab": {
          "base_uri": "https://localhost:8080/",
          "height": 270
        },
        "id": "1RZYvPHV9ftl",
        "outputId": "5da78125-9f89-4850-99db-0290242adba6"
      },
      "source": [
        "plt.pie(soma_total, labels=None, autopct='%1.1f%%', radius= 2, textprops = {\"fontsize\": 15}, )\n",
        "plt.axis(\"equal\")\n",
        "plt.title(\"Tema das principais Fake News sobre política\", fontsize=20)\n",
        "plt.legend(news_politics, loc=3);"
      ],
      "execution_count": 61,
      "outputs": [
        {
          "output_type": "display_data",
          "data": {
            "image/png": "[encoded data removed]",
            "text/plain": [
              "<Figure size 432x288 with 1 Axes>"
            ]
          },
          "metadata": {
            "tags": []
          }
        }
      ]
    },
    {
      "cell_type": "markdown",
      "metadata": {
        "id": "VLKH7RWLh9KG"
      },
      "source": [
        "Dentre as notícias que estavam categorizadas como \"Política\", nós classificamos aquelas que possivelmente tinha relação com as eleições de 2016 e o governo Trump. Dentre essas estão fake news como: *No more child support after 2017!!!!!! (Não há mais pensão alimentícia depois de 2017)* ,  *NPR: 25 Million Votes For Clinton 'Completely Fake' (NPR:25 milhões de votos para Clinton 'Completamente falso')* e *President Trump Orders the Execution of Five Turkeys Pardoned by Obama* (Presidente Trump ordena a execução de cinco perus perdoados por Obama). \n",
        "\n",
        "Em nossa classificação, quase 60% das notícias apresentaram alguma relação com as eleições de 2016 e seus desdobramentos. "
      ]
    }
  ]
}